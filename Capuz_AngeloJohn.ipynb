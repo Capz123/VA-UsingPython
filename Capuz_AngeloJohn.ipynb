{
  "nbformat": 4,
  "nbformat_minor": 0,
  "metadata": {
    "colab": {
      "name": "Capuz_AngeloJohn.ipynb",
      "provenance": [],
      "collapsed_sections": [],
      "authorship_tag": "ABX9TyO+vLO9S/iedKycfGFcpPY7",
      "include_colab_link": true
    },
    "kernelspec": {
      "display_name": "Python 3",
      "name": "python3"
    }
  },
  "cells": [
    {
      "cell_type": "markdown",
      "metadata": {
        "id": "view-in-github",
        "colab_type": "text"
      },
      "source": [
        "<a href=\"https://colab.research.google.com/github/Capz123/VA-UsingPython/blob/main/Capuz_AngeloJohn.ipynb\" target=\"_parent\"><img src=\"https://colab.research.google.com/assets/colab-badge.svg\" alt=\"Open In Colab\"/></a>"
      ]
    },
    {
      "cell_type": "code",
      "metadata": {
        "id": "k9KSjRFIGLxj"
      },
      "source": [
        "#This is a script to allow the use of microphone in Google Colab\n",
        "!pip install ffmpeg-python\n",
        "\n",
        "from IPython.display import HTML, Audio\n",
        "from google.colab.output import eval_js\n",
        "from base64 import b64decode\n",
        "import numpy as np\n",
        "from scipy.io.wavfile import read as wav_read\n",
        "import io\n",
        "import ffmpeg\n",
        "\n",
        "AUDIO_HTML = \"\"\"\n",
        "<script>\n",
        "var my_div = document.createElement(\"DIV\");\n",
        "var my_p = document.createElement(\"P\");\n",
        "var mylabel = document.createElement(\"LABEL\");\n",
        "var mybutton = document.createElement(\"BUTTON\");\n",
        "var my_btn = document.createElement(\"BUTTON\");\n",
        "mybutton.innerHTML = \"Click to Start Recording\"; \n",
        "\n",
        "my_div.appendChild(mybutton);\n",
        "my_div.appendChild(my_btn);\n",
        "my_div.appendChild(mylabel);\n",
        "document.body.appendChild(my_div);\n",
        "var recordButton = my_btn;\n",
        "var base64data = 0;\n",
        "var reader;\n",
        "var recorder, gumStream;\n",
        "mybutton.style.display = \"block\";\n",
        "my_btn.style.display = \"none\";\n",
        "\n",
        "\n",
        "mybutton.onclick = ()=>{   \n",
        "\n",
        "    \n",
        "    var handleSuccess = function(stream) {\n",
        "    gumStream = stream;\n",
        "    var options = {\n",
        "      //bitsPerSecond: 8000, //chrome seems to ignore, always 48k\n",
        "      mimeType : 'audio/webm;codecs=opus'\n",
        "      //mimeType : 'audio/webm;codecs=pcm'\n",
        "    };   \n",
        "\n",
        "    //recorder = new MediaRecorder(stream, options);\n",
        "    recorder = new MediaRecorder(stream);\n",
        "    recorder.ondataavailable = function(e) {            \n",
        "      var url = URL.createObjectURL(e.data);\n",
        "      var preview = document.createElement('audio');\n",
        "      preview.controls = true;\n",
        "      preview.src = url;\n",
        "      //document.body.appendChild(preview);\n",
        "\n",
        "      reader = new FileReader();\n",
        "      reader.readAsDataURL(e.data); \n",
        "      reader.onloadend = function() {\n",
        "        base64data = reader.result;\n",
        "        //console.log(\"Inside FileReader:\" + base64data);\n",
        "      }\n",
        "    };\n",
        "    recorder.start();\n",
        "  };\n",
        "  mybutton.style.display = \"none\";\n",
        "  my_btn.style.display = \"block\";\n",
        "  recordButton.innerText = \"Recording... press to stop\";\n",
        "\n",
        "\n",
        "  navigator.mediaDevices.getUserMedia({audio: true}).then(handleSuccess);\n",
        "\n",
        "}\n",
        "\n",
        "  var data = new Promise(resolve=>{\n",
        "  //recordButton.addEventListener(\"click\", toggleRecording);\n",
        "  recordButton.onclick = ()=>{\n",
        "  toggleRecording()\n",
        "\n",
        "  sleep(2000).then(() => {\n",
        "    // wait 2000ms for the data to be available...\n",
        "    // ideally this should use something like await...\n",
        "    //console.log(\"Inside data:\" + base64data)\n",
        "    resolve(base64data.toString())\n",
        "\n",
        "  });\n",
        "\n",
        "  }\n",
        "  }); //var data\n",
        "\n",
        "function toggleRecording() {\n",
        "  if (recorder && recorder.state == \"recording\") {\n",
        "      recorder.stop();\n",
        "      gumStream.getAudioTracks()[0].stop();      \n",
        "      sleep(500).then(() => {\n",
        "            recordButton.style.display = \"none\";\n",
        "            recordButton.innerText = \"Input Accepted\"\n",
        "      });\n",
        "      \n",
        "  }\n",
        "}\n",
        "\n",
        "// https://stackoverflow.com/a/951057\n",
        "function sleep(ms) {\n",
        "  return new Promise(resolve => setTimeout(resolve, ms));\n",
        "}\n",
        "\n",
        "</script>\n",
        "\"\"\"\n"
      ],
      "execution_count": null,
      "outputs": []
    },
    {
      "cell_type": "code",
      "metadata": {
        "id": "zuVbkl4FG9V2"
      },
      "source": [
        "#This is a function to call the script\n",
        "def get_audio_wav():\n",
        "  display(HTML(AUDIO_HTML))\n",
        "  data = eval_js(\"data\")\n",
        "  binary = b64decode(data.split(',')[1])\n",
        "    \n",
        "  process = (ffmpeg\n",
        "    .input('pipe:0')\n",
        "    .output('pipe:1', format='wav')\n",
        "    .run_async(pipe_stdin=True, pipe_stdout=True, pipe_stderr=True, quiet=True, overwrite_output=True)\n",
        "  )\n",
        "  output, err = process.communicate(input=binary)\n",
        "    \n",
        "  riff_chunk_size = len(output) - 8\n",
        "  # Break up the chunk size into four bytes, held in b.\n",
        "  q = riff_chunk_size\n",
        "  b = []\n",
        "  for i in range(4):\n",
        "      q, r = divmod(q, 256)\n",
        "      b.append(r)\n",
        "\n",
        "  # Replace bytes 4:8 in proc.stdout with the actual size of the RIFF chunk.\n",
        "  riff = output[:4] + bytes(b) + output[8:]\n",
        "\n",
        "  audio2 = io.BytesIO(riff)\n",
        "  return audio2"
      ],
      "execution_count": null,
      "outputs": []
    },
    {
      "cell_type": "code",
      "metadata": {
        "id": "hsi75cPOHQg-"
      },
      "source": [
        "!pip install SpeechRecognition \n",
        "!pip install datetime\n",
        "!pip install wikipedia\n",
        "!pip install playsound\n",
        "!pip install gTTs\n",
        "!apt-get install portaudio19-dev\n",
        "!pip3 install pyaudio\n",
        "!pip install pytz"
      ],
      "execution_count": null,
      "outputs": []
    },
    {
      "cell_type": "code",
      "metadata": {
        "id": "d7deC7s1IAeg"
      },
      "source": [
        "import speech_recognition as sr\n",
        "from gtts import gTTS\n",
        "import datetime\n",
        "import calendar\n",
        "import os\n",
        "import pytz\n",
        "from IPython.display import Audio, display"
      ],
      "execution_count": null,
      "outputs": []
    },
    {
      "cell_type": "code",
      "metadata": {
        "id": "4qLbjPtJISQD"
      },
      "source": [
        "#WORKING\n",
        "def get_audio():    \n",
        "    r = sr.Recognizer()\n",
        "    audio2 = sr.WavFile(get_audio_wav())\n",
        "    with audio2 as source:              \n",
        "        audio = r.record(source)        # extract audio data from the file\n",
        "        said = \"\"                        \n",
        "        try:\n",
        "            said = r.recognize_google(audio)  \n",
        "            print(\"You said: \" + said)              \n",
        "            # recognize speech using Google Speech Recognition\n",
        "        except LookupError:                                 # speech is unintelligible\n",
        "            print(\"Could not understand audio\")                      \n",
        "    return said.lower()"
      ],
      "execution_count": null,
      "outputs": []
    },
    {
      "cell_type": "code",
      "metadata": {
        "id": "nO3ncFFpIWR7",
        "colab": {
          "base_uri": "https://localhost:8080/",
          "height": 35
        },
        "outputId": "8547e617-cde3-4023-91e3-7ddf2fd8a068"
      },
      "source": [
        "speech1 = get_audio()"
      ],
      "execution_count": null,
      "outputs": [
        {
          "output_type": "display_data",
          "data": {
            "text/html": [
              "\n",
              "<script>\n",
              "var my_div = document.createElement(\"DIV\");\n",
              "var my_p = document.createElement(\"P\");\n",
              "var mylabel = document.createElement(\"LABEL\");\n",
              "var mybutton = document.createElement(\"BUTTON\");\n",
              "var my_btn = document.createElement(\"BUTTON\");\n",
              "mybutton.innerHTML = \"Click to Start Recording\"; \n",
              "\n",
              "my_div.appendChild(mybutton);\n",
              "my_div.appendChild(my_btn);\n",
              "my_div.appendChild(mylabel);\n",
              "document.body.appendChild(my_div);\n",
              "var recordButton = my_btn;\n",
              "var base64data = 0;\n",
              "var reader;\n",
              "var recorder, gumStream;\n",
              "mybutton.style.display = \"block\";\n",
              "my_btn.style.display = \"none\";\n",
              "\n",
              "\n",
              "mybutton.onclick = ()=>{   \n",
              "\n",
              "    \n",
              "    var handleSuccess = function(stream) {\n",
              "    gumStream = stream;\n",
              "    var options = {\n",
              "      //bitsPerSecond: 8000, //chrome seems to ignore, always 48k\n",
              "      mimeType : 'audio/webm;codecs=opus'\n",
              "      //mimeType : 'audio/webm;codecs=pcm'\n",
              "    };   \n",
              "\n",
              "    //recorder = new MediaRecorder(stream, options);\n",
              "    recorder = new MediaRecorder(stream);\n",
              "    recorder.ondataavailable = function(e) {            \n",
              "      var url = URL.createObjectURL(e.data);\n",
              "      var preview = document.createElement('audio');\n",
              "      preview.controls = true;\n",
              "      preview.src = url;\n",
              "      //document.body.appendChild(preview);\n",
              "\n",
              "      reader = new FileReader();\n",
              "      reader.readAsDataURL(e.data); \n",
              "      reader.onloadend = function() {\n",
              "        base64data = reader.result;\n",
              "        //console.log(\"Inside FileReader:\" + base64data);\n",
              "      }\n",
              "    };\n",
              "    recorder.start();\n",
              "  };\n",
              "  mybutton.style.display = \"none\";\n",
              "  my_btn.style.display = \"block\";\n",
              "  recordButton.innerText = \"Recording... press to stop\";\n",
              "\n",
              "\n",
              "  navigator.mediaDevices.getUserMedia({audio: true}).then(handleSuccess);\n",
              "\n",
              "}\n",
              "\n",
              "  var data = new Promise(resolve=>{\n",
              "  //recordButton.addEventListener(\"click\", toggleRecording);\n",
              "  recordButton.onclick = ()=>{\n",
              "  toggleRecording()\n",
              "\n",
              "  sleep(2000).then(() => {\n",
              "    // wait 2000ms for the data to be available...\n",
              "    // ideally this should use something like await...\n",
              "    //console.log(\"Inside data:\" + base64data)\n",
              "    resolve(base64data.toString())\n",
              "\n",
              "  });\n",
              "\n",
              "  }\n",
              "  }); //var data\n",
              "\n",
              "function toggleRecording() {\n",
              "  if (recorder && recorder.state == \"recording\") {\n",
              "      recorder.stop();\n",
              "      gumStream.getAudioTracks()[0].stop();      \n",
              "      sleep(500).then(() => {\n",
              "            recordButton.style.display = \"none\";\n",
              "            recordButton.innerText = \"Input Accepted\"\n",
              "      });\n",
              "      \n",
              "  }\n",
              "}\n",
              "\n",
              "// https://stackoverflow.com/a/951057\n",
              "function sleep(ms) {\n",
              "  return new Promise(resolve => setTimeout(resolve, ms));\n",
              "}\n",
              "\n",
              "</script>\n"
            ],
            "text/plain": [
              "<IPython.core.display.HTML object>"
            ]
          },
          "metadata": {}
        },
        {
          "output_type": "stream",
          "name": "stdout",
          "text": [
            "You said: hello good afternoon\n"
          ]
        }
      ]
    },
    {
      "cell_type": "code",
      "metadata": {
        "id": "azipsarMI4wy"
      },
      "source": [
        "def say(text):\n",
        "  tts = gTTS(text=text) #Provide the string to convert to speech\n",
        "  tts.save('1.wav') #save the string converted to speech as a .wav file\n",
        "  sound_file = '1.wav'\n",
        "  display(Audio(sound_file, autoplay=True))"
      ],
      "execution_count": null,
      "outputs": []
    },
    {
      "cell_type": "code",
      "metadata": {
        "id": "DM3V6HDjJBeT",
        "colab": {
          "base_uri": "https://localhost:8080/",
          "height": 75
        },
        "outputId": "22f6beb3-fd43-44cd-f2bc-6a9f00d0b234"
      },
      "source": [
        "say('Hello User, I am your personal virtual assistant how may I help you')"
      ],
      "execution_count": null,
      "outputs": [
        {
          "output_type": "display_data",
          "data": {
            "text/html": [
              "\n",
              "                <audio controls=\"controls\" autoplay=\"autoplay\">\n",
              "                    <source src=\"data:audio/x-wav;base64,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\" type=\"audio/x-wav\" />\n",
              "                    Your browser does not support the audio element.\n",
              "                </audio>\n",
              "              "
            ],
            "text/plain": [
              "<IPython.lib.display.Audio object>"
            ]
          },
          "metadata": {}
        }
      ]
    },
    {
      "cell_type": "code",
      "metadata": {
        "id": "MRUlWd0XK_pz",
        "colab": {
          "base_uri": "https://localhost:8080/",
          "height": 93
        },
        "outputId": "3431dc17-dcec-47cf-9049-68695e1a193b"
      },
      "source": [
        "voice_command = \"hello\"\n",
        "speech1 = get_audio()\n",
        "if voice_command in speech1:\n",
        "  say('Hello User what can i do for you?')\n",
        "elif 'goodbye marie' in speech1:\n",
        "  say(\"Goodbye User!, Have a nice day\")\n",
        "elif voice_command not in speech1:\n",
        "  say(\"Sorry Invalid command\")"
      ],
      "execution_count": null,
      "outputs": [
        {
          "output_type": "display_data",
          "data": {
            "text/html": [
              "\n",
              "<script>\n",
              "var my_div = document.createElement(\"DIV\");\n",
              "var my_p = document.createElement(\"P\");\n",
              "var mylabel = document.createElement(\"LABEL\");\n",
              "var mybutton = document.createElement(\"BUTTON\");\n",
              "var my_btn = document.createElement(\"BUTTON\");\n",
              "mybutton.innerHTML = \"Click to Start Recording\"; \n",
              "\n",
              "my_div.appendChild(mybutton);\n",
              "my_div.appendChild(my_btn);\n",
              "my_div.appendChild(mylabel);\n",
              "document.body.appendChild(my_div);\n",
              "var recordButton = my_btn;\n",
              "var base64data = 0;\n",
              "var reader;\n",
              "var recorder, gumStream;\n",
              "mybutton.style.display = \"block\";\n",
              "my_btn.style.display = \"none\";\n",
              "\n",
              "\n",
              "mybutton.onclick = ()=>{   \n",
              "\n",
              "    \n",
              "    var handleSuccess = function(stream) {\n",
              "    gumStream = stream;\n",
              "    var options = {\n",
              "      //bitsPerSecond: 8000, //chrome seems to ignore, always 48k\n",
              "      mimeType : 'audio/webm;codecs=opus'\n",
              "      //mimeType : 'audio/webm;codecs=pcm'\n",
              "    };   \n",
              "\n",
              "    //recorder = new MediaRecorder(stream, options);\n",
              "    recorder = new MediaRecorder(stream);\n",
              "    recorder.ondataavailable = function(e) {            \n",
              "      var url = URL.createObjectURL(e.data);\n",
              "      var preview = document.createElement('audio');\n",
              "      preview.controls = true;\n",
              "      preview.src = url;\n",
              "      //document.body.appendChild(preview);\n",
              "\n",
              "      reader = new FileReader();\n",
              "      reader.readAsDataURL(e.data); \n",
              "      reader.onloadend = function() {\n",
              "        base64data = reader.result;\n",
              "        //console.log(\"Inside FileReader:\" + base64data);\n",
              "      }\n",
              "    };\n",
              "    recorder.start();\n",
              "  };\n",
              "  mybutton.style.display = \"none\";\n",
              "  my_btn.style.display = \"block\";\n",
              "  recordButton.innerText = \"Recording... press to stop\";\n",
              "\n",
              "\n",
              "  navigator.mediaDevices.getUserMedia({audio: true}).then(handleSuccess);\n",
              "\n",
              "}\n",
              "\n",
              "  var data = new Promise(resolve=>{\n",
              "  //recordButton.addEventListener(\"click\", toggleRecording);\n",
              "  recordButton.onclick = ()=>{\n",
              "  toggleRecording()\n",
              "\n",
              "  sleep(2000).then(() => {\n",
              "    // wait 2000ms for the data to be available...\n",
              "    // ideally this should use something like await...\n",
              "    //console.log(\"Inside data:\" + base64data)\n",
              "    resolve(base64data.toString())\n",
              "\n",
              "  });\n",
              "\n",
              "  }\n",
              "  }); //var data\n",
              "\n",
              "function toggleRecording() {\n",
              "  if (recorder && recorder.state == \"recording\") {\n",
              "      recorder.stop();\n",
              "      gumStream.getAudioTracks()[0].stop();      \n",
              "      sleep(500).then(() => {\n",
              "            recordButton.style.display = \"none\";\n",
              "            recordButton.innerText = \"Input Accepted\"\n",
              "      });\n",
              "      \n",
              "  }\n",
              "}\n",
              "\n",
              "// https://stackoverflow.com/a/951057\n",
              "function sleep(ms) {\n",
              "  return new Promise(resolve => setTimeout(resolve, ms));\n",
              "}\n",
              "\n",
              "</script>\n"
            ],
            "text/plain": [
              "<IPython.core.display.HTML object>"
            ]
          },
          "metadata": {}
        },
        {
          "output_type": "stream",
          "name": "stdout",
          "text": [
            "You said: hello\n"
          ]
        },
        {
          "output_type": "display_data",
          "data": {
            "text/html": [
              "\n",
              "                <audio controls=\"controls\" autoplay=\"autoplay\">\n",
              "                    <source src=\"data:audio/x-wav;base64,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\" type=\"audio/x-wav\" />\n",
              "                    Your browser does not support the audio element.\n",
              "                </audio>\n",
              "              "
            ],
            "text/plain": [
              "<IPython.lib.display.Audio object>"
            ]
          },
          "metadata": {}
        }
      ]
    },
    {
      "cell_type": "code",
      "metadata": {
        "id": "vPySaRDDZXeL"
      },
      "source": [
        "#The VA is triggered by saying 'time'\n",
        "voice_command = \"give time\"\n",
        "ist = pytz.timezone('Asia/Calcutta')\n",
        "speech1 = get_audio()  \n",
        "if voice_command in speech1:\n",
        "  time = datetime.datetime.now(ist)\n",
        "  say(\"It is ,\"+str(time)[11:16])\n",
        "elif 'date' in speech1:\n",
        "  date = datetime.datetime.now()\n",
        "  say(\"Today is,\"+str(date)[0:10])\n",
        "elif voice_command not in speech1:\n",
        "  say(\"Sorry Invalid command\")"
      ],
      "execution_count": null,
      "outputs": []
    },
    {
      "cell_type": "code",
      "metadata": {
        "id": "w0njBhofYrsA"
      },
      "source": [
        "#These are the functions to call the date and time functions\n",
        "def timeFinder():\n",
        "    time = datetime.datetime.now()\n",
        "    say(\"It is ,\"+str(time)[11:16])\n",
        "    \n",
        "def dateFinder():\n",
        "    date = datetime.datetime.now()\n",
        "    say(\"Today is,\"+str(date)[0:10])"
      ],
      "execution_count": null,
      "outputs": []
    },
    {
      "cell_type": "code",
      "metadata": {
        "id": "R4iwswj9j5jv"
      },
      "source": [
        "#This function checks the voice commands and calls the appropriate methods\n",
        "def v_command():    \n",
        "    if 'what time is it' in speech:\n",
        "        timeFinder()        \n",
        "    elif 'date today' in speech:\n",
        "        dateFinder()"
      ],
      "execution_count": null,
      "outputs": []
    },
    {
      "cell_type": "code",
      "metadata": {
        "id": "RC2ejUY8j9Y_"
      },
      "source": [
        "  #This is how you call the functions for input and processing\n",
        "  speech = get_audio()\n",
        "  v_command()"
      ],
      "execution_count": null,
      "outputs": []
    },
    {
      "cell_type": "code",
      "metadata": {
        "id": "2MEBft8mlWFd"
      },
      "source": [
        "#ask name\n",
        "#how's your day\n",
        "voice_command = \"what is your name\"\n",
        "speech1 = get_audio()\n",
        "if voice_command in speech1:\n",
        "  say('I am blah blah blah')\n",
        "if \"how was your day\" in speech1:\n",
        "  say(\"It is fine thank you\")\n",
        "elif 'goodbye' in speech1:\n",
        "  say(\"Goodbye User! Have a nice day\")"
      ],
      "execution_count": null,
      "outputs": []
    },
    {
      "cell_type": "code",
      "metadata": {
        "id": "9fOsDhLDkmNE"
      },
      "source": [
        "#import needed packages\n",
        "import webbrowser\n",
        "from bs4 import BeautifulSoup\n",
        "import wikipedia\n",
        "import random\n",
        "import os\n",
        "import requests\n",
        "import urllib\n",
        "import random\n",
        "import subprocess\n",
        "from playsound import playsound"
      ],
      "execution_count": null,
      "outputs": []
    },
    {
      "cell_type": "code",
      "metadata": {
        "id": "hIIPqS37MIdf"
      },
      "source": [
        "def getWeatherData(cityName):\n",
        "    api = 'http://api.openweathermap.org/data/2.5/weather?appid=c6db7752bda2accb8b608e3f44e534f5&q='\n",
        "    url = api + cityName\n",
        "\n",
        "    data = requests.get(url).json()\n",
        "    weatherCondition = data['weather'][0]['main']\n",
        "    temp = data['main']['temp']\n",
        "    pressure = data['main']['pressure']\n",
        "    humidity = data['main']['humidity']\n",
        "    windSpeed = data['wind']['speed']\n",
        "    \n",
        "    print(f\"The weather is {weatherCondition}, and the temperature is {temp} kelvin. Atmospheric Pressure is around {pressure}. The humidity is {humidity}, while the windspeed is {windSpeed}\")\n",
        "    say(f\"The weather is {weatherCondition}, and the temperature is {temp} kelvin. Atmospheric Pressure is around {pressure}. The humidity is {humidity}, while the windspeed is {windSpeed}\")\n",
        "    "
      ],
      "execution_count": null,
      "outputs": []
    },
    {
      "cell_type": "code",
      "metadata": {
        "id": "pI3eCXbNMLts"
      },
      "source": [
        "speech = get_audio()  \n",
        "if 'weather' or 'temperature' in speech:\n",
        "    say(\"Which city\")\n",
        "    city = get_audio()\n",
        "    getWeatherData(city)"
      ],
      "execution_count": null,
      "outputs": []
    },
    {
      "cell_type": "code",
      "metadata": {
        "id": "dX1x5bGTLsy6"
      },
      "source": [
        "#Initialize needed variables\n",
        "saved_f = list(range(1,1000))\n",
        "ran1 = random.choice(saved_f)\n",
        "rand = random.choice(saved_f)\n",
        "sites_list = ['youtube.com', '17,773,093', '100', '2', 'www.google.com', '12,121,415', '100', '3', 'apple.com', '4,599,135', '100', '4', 'docs.google.com', '2,264,343', '99', '5', 'www.blogger.com', '25,228,854', '99', '6', 'support.google.com', '4,567,382', '99', '7', 'play.google.com', '2,378,037', '99', '8', 'microsoft.com', '4,494,110', '99', '9', 'adobe.com', '2,878,836', '98', '10', 'maps.google.com', '4,401,467', '98', '11', 'wordpress.org', '9,908,954', '98', '12', 'cloudflare.com', '5,216,383', '98', '13', 'plus.google.com', '11,986,046', '98', '14', 'linkedin.com', '8,845,452', '98', '15', 'en.wikipedia.org', '5,492,548', '98', '16', 'accounts.google.com', '2,534,221', '97', '17', 'vimeo.com', '3,129,499', '97', '18', 'europa.eu', '1,687,296', '97', '19', 'sites.google.com', '1,687,085', '97', '20', 'mozilla.org', '1,956,554', '97', '21', 'drive.google.com', '1,786,378', '97', '22', 'googleusercontent.com', '2,161,440', '97', '23', 'youtu.be', '3,946,670', '97', '24', 'facebook.com', '45,613,803', '96', '25', 'amazon.com', '4,022,134', '96', '26', 'line.me', '596,838', '96', '27', 'github.com', '2,012,694', '96', '28', 'bp.blogspot.com', '15,947,816', '96', '29', 'vk.com', '1,600,588', '96', '30', 'medium.com', '1,130,428', '96', '31', 'bbc.co.uk', '1,425,853', '96', '32', 'es.wikipedia.org', '779,618', '96', '33', 'istockphoto.com', '3,087,381', '96', '34', 'creativecommons.org', '1,553,255', '96', '35', 'whatsapp.com', '1,730,132', '95', '36', 'jimdofree.com', '1,659,976', '95', '37', 'networkadvertising.org', '705,213', '95', '38', 'google.fr', '383,359', '95', '39', 'ok.ru', '330,607', '95', '40', 'feedburner.com', '1,750,883', '95', '41', 'nytimes.com', '1,696,124', '95', '42', 'theguardian.com', '1,206,115', '95', '43', 'google.co.jp', '631,246', '95', '44', 'mail.google.com', '440,230', '95', '45', 'photos.google.com', '232,792', '95', '46', 'aliexpress.com', '442,946', '95', '47', 'w3.org', '1,067,418', '95', '48', 'gstatic.com', '585,535', '95', '49', 't.me', '510,291', '95', '50', 'slideshare.net', '877,838', '95', '51', 'developers.google.com', '906,715', '95', '52', 'uol.com.br', '562,399', '95', '53', 'fr.wikipedia.org', '540,271', '95', '54', 'nih.gov', '1,058,842', '95', '55', 'www.yahoo.com', '913,997', '95', '56', 'pt.wikipedia.org', '359,480', '95', '57', 'policies.google.com', '1,099,082', '95', '58', 'cnn.com', '1,232,808', '95', '59', 'bbc.com', '677,028', '95', '60', 'news.google.com', '687,492', '95', '61', 'hugedomains.com', '5,058,423', '95', '62', 'wikimedia.org', '1,371,372', '95', '63', 'google.de', '1,093,367', '95', '64', 'forbes.com', '1,097,898', '95', '65', 'live.com', '738,686', '95', '66', 'who.int', '2,232,274', '95', '67', 'dropbox.com', '940,317', '95', '68', 'buydomains.com', '1,148,596', '95', '69', 'google.es', '415,035', '95', '70', 'dailymotion.com', '1,072,286', '95', '71', 'paypal.com', '908,923', '95', '72', 'google.com.br', '264,690', '95', '73', 'imdb.com', '1,236,625', '95', '74', 'google.co.uk', '545,026', '95', '75', 'msn.com', '991,511', '95', '76', 'myspace.com', '1,260,457', '95', '77', 'reuters.com', '735,895', '95', '78', 'globo.com', '385,337', '95', '79', 'mail.ru', '481,599', '95', '80', 'opera.com', '758,501', '94', '81', 'booking.com', '355,658', '94', '82', 'un.org', '422,787', '94', '83', 'harvard.edu', '591,885', '94', '84', 'hatena.ne.jp', '1,457,165', '94', '85', 'office.com', '348,744', '94', '86', 'news.yahoo.com', '576,011', '94', '87', 'pinterest.com', '7,164,685', '94', '88', 'telegraph.co.uk', '780,628', '94', '89', 'thesun.co.uk', '256,893', '94', '90', 'elpais.com', '326,493', '94', '91', 'fandom.com', '431,080', '94', '92', 'bit.ly', '4,032,441', '94', '93', 'google.it', '411,263', '94', '94', 'steampowered.com', '218,378', '94', '95', 'bing.com', '891,779', '94', '96', 'dailymail.co.uk', '784,988', '94', '97', 'oracle.com', '529,310', '94', '98', 'ebay.com', '886,625', '94', '99', 'ft.com', '355,037', '94', '100', 'cpanel.com', '1,245,159', '94', '101', 'get.google.com', '565,350', '94', '102', 'huffingtonpost.com', '884,730', '94', '103', 'rt.com', '232,483', '94', '104', 'nasa.gov', '553,487', '94', '105', 'washingtonpost.com', '875,958', '94', '106', 'aboutads.info', '490,911', '94', '107', 'independent.co.uk', '524,315', '94', '108', 'files.wordpress.com', '1,989,260', '94', '109', 'mediafire.com', '766,721', '94', '110', 'www.gov.uk', '487,297', '94', '111', 'time.com', '620,570', '94', '112', 'cdc.gov', '659,910', '94', '113', 'amazon.co.jp', '773,715', '94', '114', 'samsung.com', '307,757', '94', '115', 'wikia.com', '463,302', '94', '116', 'wsj.com', '809,538', '94', '117', 'ipv4.google.com', '353,592', '94', '118', 'tools.google.com', '1,501,287', '94', '119', 'code.google.com', '323,703', '94', '120', 'sedo.com', '2,388,721', '94', '121', 'goo.gl', '4,200,596', '94', '122', 'change.org', '395,648', '94', '123', 'gravatar.com', '1,777,311', '94', '124', 'youronlinechoices.com', '515,154', '94', '125', 'www.wix.com', '897,207', '94', '126', 'search.google.com', '969,626', '94', '127', 'bloomberg.com', '673,994', '94', '128', 'telegram.me', '270,829', '94', '129', 'amazon.de', '494,150', '94', '130', 'webmd.com', '551,806', '94', '131', 'marketingplatform.google.com', '749,205', '94', '132', 'mirror.co.uk', '260,164', '94', '133', 'rakuten.co.jp', '589,940', '94', '134', 'cpanel.net', '1,332,426', '94', '135', 'terra.com.br', '187,094', '94', '136', 'privacyshield.gov', '420,544', '94', '137', 'twitter.com', '48,377,685', '94', '138', 'abcnews.go.com', '476,955', '94', '139', 'plesk.com', '697,680', '94', '140', 'tinyurl.com', '1,231,745', '94', '141', 'namecheap.com', '808,020', '94', '142', 'google.ru', '173,216', '94', '143', 'de.wikipedia.org', '596,109', '94', '144', 'foxnews.com', '455,981', '94', '145', 'picasaweb.google.com', '615,457', '94', '146', 'android.com', '267,068', '94', '147', 'translate.google.com', '276,606', '94', '148', 'archive.org', '883,296', '94', '149', 'amazon.co.uk', '632,993', '94', '150', 'cnet.com', '552,564', '94', '151', 'businessinsider.com', '580,793', '94', '152', 'books.google.com', '348,351', '94', '153', 'abril.com.br', '227,794', '94', '154', 'issuu.com', '844,623', '94', '155', 'ig.com.br', '133,072', '94', '156', 'aol.com', '654,184', '94', '157', 'fb.com', '354,540', '94', '158', 'soundcloud.com', '1,566,367', '94', '159', 'myaccount.google.com', '264,940', '94', '160', 'lefigaro.fr', '182,626', '94', '161', 'picasa.google.com', '248,802', '94', '162', 'themeforest.net', '508,782', '94', '163', 'wired.com', '539,677', '94', '164', 'draft.blogger.com', '7,924,357', '94', '165', 'usatoday.com', '640,078', '94', '166', 'scribd.com', '649,666', '94', '167', 'netflix.com', '245,873', '93', '168', 'storage.googleapis.com', '445,411', '93', '169', 'lg.com', '120,580', '93', '170', 'nationalgeographic.com', '535,739', '93', '171', 't.co', '1,706,312', '93', '172', 'mit.edu', '572,405', '93', '173', 'orkut.com.br', '120,198', '93', '174', 'imageshack.com', '436,382', '93', '175', 'bitly.com', '308,393', '93', '176', 'pbs.org', '425,136', '93', '177', 'bloglovin.com', '442,956', '93', '178', 'sciencemag.org', '267,175', '93', '179', 'digg.com', '818,014', '93', '180', 'sciencedirect.com', '423,399', '93', '181', 'usnews.com', '327,283', '93', '182', 'mega.nz', '151,740', '93', '183', 'urbandictionary.com', '208,235', '93', '184', 'bt.com', '172,846', '93', '185', 'alibaba.com', '372,597', '93', '186', 'engadget.com', '402,060', '93', '187', 'umich.edu', '296,707', '93', '188', 'php.net', '626,096', '93', '189', 'deezer.com', '124,726', '93', '190', 'google.pl', '188,594', '93', '191', 'asus.com', '141,033', '93', '192', 'express.co.uk', '205,495', '93', '193', 'ja.wikipedia.org', '329,615', '93', '194', 'loc.gov', '371,484', '93', '195', 'blackberry.com', '135,944', '93', '196', 'disqus.com', '922,027', '93', '197', 'news.com.au', '253,540', '93', '198', 'pl.wikipedia.org', '128,845', '93', '199', 'lemonde.fr', '225,450', '93', '200', '4shared.com', '507,799', '93', '201', 'tes.com', '398,720', '93', '202', 'welt.de', '160,073', '93', '203', 'spiegel.de', '266,227', '93', '204', 'nicovideo.jp', '138,641', '93', '205', 'imageshack.us', '788,507', '93', '206', 'disney.com', '212,486', '93', '207', 'dan.com', '1,472,083', '93', '208', 'eventbrite.com', '545,681', '93', '209', 'wikihow.com', '350,233', '93', '210', 'stanford.edu', '514,714', '93', '211', 'rambler.ru', '231,907', '93', '212', 'washington.edu', '311,102', '93', '213', 'forms.gle', '331,933', '93', '214', 'twitch.tv', '298,937', '93', '215', 'smh.com.au', '264,641', '93', '216', 'nbcnews.com', '307,922', '93', '217', 'mystrikingly.com', '248,406', '93', '218', 'adssettings.google.com', '302,514', '93', '219', 'trustpilot.com', '318,474', '93', '220', 'academia.edu', '286,200', '93', '221', 'cisco.com', '209,219', '93', '222', 'biglobe.ne.jp', '224,462', '93', '223', 'hollywoodreporter.com', '216,977', '93', '224', 'ovh.co.uk', '567,292', '93', '225', 'surveymonkey.com', '384,970', '93', '226', 'naver.jp', '129,828', '93', '227', 'asahi.com', '163,529', '93', '228', 'shopify.com', '1,209,746', '93', '229', 'abc.net.au', '326,546', '93', '230', 'ggpht.com', '573,740', '93', '231', 'amazon.fr', '219,761', '93', '232', 'yelp.com', '808,870', '93', '233', 'ign.com', '233,560', '93', '234', 'it.wikipedia.org', '285,573', '93', '235', 'pixabay.com', '299,666', '93', '236', 'yandex.ru', '917,678', '93', '237', 'walmart.com', '268,164', '93', '238', 'vox.com', '380,753', '93', '239', 'rapidshare.com', '282,624', '93', '240', 'e-recht24.de', '446,236', '93', '241', 'wiley.com', '439,757', '93', '242', 'wa.me', '408,388', '93', '243', 'berkeley.edu', '391,518', '93', '244', 'google.co.id', '134,855', '93', '245', 'cbsnews.com', '431,229', '93', '246', 'indiatimes.com', '336,655', '93', '247', 'gnu.org', '573,090', '93', '248', 'iubenda.com', '183,132', '93', '249', 'parallels.com', '583,444', '93', '250', 'nginx.com', '458,344', '93', '251', 'dw.com', '221,745', '93', '252', '000webhost.com', '283,603', '93', '253', 'ria.ru', '155,795', '93', '254', 'pexels.com', '143,912', '93', '255', 'guardian.co.uk', '524,125', '93', '256', 'www.weebly.com', '332,312', '93', '257', 'my.yahoo.com', '1,133,646', '93', '258', 'cbc.ca', '351,007', '93', '259', 'spotify.com', '1,110,447', '93', '260', 'huffpost.com', '417,973', '93', '261', 'addtoany.com', '707,532', '93', '262', 'scoop.it', '337,140', '93', '263', 'vice.com', '305,182', '93', '264', 'xbox.com', '145,830', '93', '265', 'nginx.org', '543,884', '93', '266', 'finance.yahoo.com', '373,233', '93', '267', 'ox.ac.uk', '221,475', '93', '268', 'dell.com', '210,999', '93', '269', 'icann.org', '387,169', '93', '270', 'bandcamp.com', '509,057', '93', '271', 'mashable.com', '346,066', '93', '272', 'gmail.com', '182,616', '93', '273', 'a8.net', '422,800', '93', '274', 'amazon.it', '126,083', '93', '275', 'm.wikipedia.org', '229,815', '93', '276', 'sciencedaily.com', '291,252', '93', '277', 'akamaihd.net', '413,891', '93', '278', 'depositfiles.com', '140,685', '93', '279', 'whitehouse.gov', '318,596', '93', '280', 'thetimes.co.uk', '300,157', '93', '281', 'google.nl', '217,933', '93', '282', 'bp1.blogger.com', '522,027', '93', '283', 'addthis.com', '700,904', '93', '284', 'theatlantic.com', '427,949', '93', '285', 'elmundo.es', '193,370', '93', '286', 'sapo.pt', '206,750', '93', '287', 'naver.com', '417,447', '93', '288', 'yale.edu', '282,508', '93', '289', 'worldbank.org', '205,531', '93', '290', 'goodreads.com', '666,510', '93', '291', 'id.wikipedia.org', '409,452', '93', '292', 'xinhuanet.com', '636,725', '93', '293', 'hm.com', '155,073', '93', '294', 'columbia.edu', '278,533', '93', '295', 'quora.com', '307,872', '93', '296', 'detik.com', '350,228', '93', '297', 'nydailynews.com', '304,613', '93', '298', 'gizmodo.com', '342,746', '93', '299', 'wp.com', '921,045', '93', '300', 'weibo.com', '1,492,563', '93', '301', 'photobucket.com', '1,584,138', '93', '302', 'stackoverflow.com', '284,597', '93', '303', 'oup.com', '315,622', '93', '304', 'qq.com', '4,177,713', '93', '305', 'amazon.es', '145,210', '93', '306', 'ikea.com', '265,457', '93', '307', 'rtve.es', '143,223', '93', '308', 'ea.com', '158,821', '93', '309', 'cambridge.org', '223,141', '93', '310', 'princeton.edu', '282,881', '93', '311', 'ietf.org', '354,134', '93', '312', 'nikkei.com', '188,987', '93', '313', 'nypost.com', '291,689', '93', '314', 'nvidia.com', '147,102', '93', '315', 'hp.com', '393,343', '93', '316', 'doubleclick.net', '649,477', '93', '317', 'unesco.org', '255,567', '93', '318', 'metro.co.uk', '177,487', '93', '319', 'ibm.com', '441,713', '93', '320', 'nature.com', '445,503', '93', '321', 'cnbc.com', '399,915', '93', '322', 'godaddy.com', '2,312,204', '93', '323', 'secureserver.net', '904,953', '93', '324', 'cornell.edu', '372,031', '93', '325', 'gofundme.com', '274,317', '93', '326', 'bp0.blogger.com', '521,977', '93', '327', 'photos1.blogger.com', '820,985', '93', '328', 'sendspace.com', '151,301', '93', '329', 'espn.com', '298,311', '93', '330', 'tripadvisor.com', '449,866', '93', '331', 'newsweek.com', '248,306', '93', '332', 'ovh.net', '715,418', '93', '333', 'ytimg.com', '244,138', '93', '334', 'techcrunch.com', '394,950', '93', '335', 'abc.es', '158,112', '93', '336', 'mysql.com', '406,755', '93', '337', 'economist.com', '305,903', '93', '338', 'shutterstock.com', '250,806', '93', '339', 'nhk.or.jp', '206,944', '93', '340', 'apache.org', '888,594', '93', '341', 'ru.wikipedia.org', '356,612', '93', '342', 'www.over-blog.com', '586,239', '93', '343', 'fifa.com', '144,087', '93', '344', 'netvibes.com', '1,150,303', '93', '345', 'standard.co.uk', '146,614', '93', '346', 'goo.ne.jp', '298,643', '93', '347', 'noaa.gov', '283,981', '93', '348', 'yadi.sk', '173,196', '93', '349', 'instagram.com', '20,490,897', '93', '350', 'latimes.com', '580,966', '93', '351', 'channel4.com', '144,979', '93', '352', 'researchgate.net', '320,834', '93', '353', 'windowsphone.com', '123,495', '93', '354', 'over-blog-kiwi.com', '155,788', '93', '355', 'theverge.com', '304,008', '93', '356', 'buzzfeed.com', '450,187', '93', '357', 'box.com', '232,607', '93', '358', 'kickstarter.com', '409,165', '93', '359', 'about.com', '674,842', '93', '360', 'britannica.com', '270,189', '93', '361', 'instructables.com', '274,749', '93', '362', 'yahoo.co.jp', '621,888', '93', '363', 'bp2.blogger.com', '522,355', '93', '364', 'google.com.tw', '127,556', '93', '365', 'list-manage.com', '621,938', '93', '366', 'psychologytoday.com', '274,824', '93', '367', 'ted.com', '482,161', '93', '368', 'nokia.com', '160,553', '93', '369', 'variety.com', '200,965', '93', '370', 'groups.google.com', '301,610', '93', '371', 'sfgate.com', '320,344', '93', '372', 'zendesk.com', '446,514', '93', '373', 'google.co.in', '245,753', '93', '374', 'playstation.com', '181,623', '93', '375', 'utexas.edu', '234,121', '93', '376', 'googleblog.com', '216,776', '93', '377', 'ovh.com', '405,938', '93', '378', 'www.wikipedia.org', '530,366', '93', '379', 'npr.org', '601,849', '93', '380', 'google.ca', '294,180', '93', '381', 'marriott.com', '332,335', '93', '382', 'so-net.ne.jp', '174,673', '92', '383', 'corriere.it', '143,805', '92', '384', 'axs.com', '224,976', '92', '385', 'airbnb.com', '167,494', '92', '386', 'excite.co.jp', '485,874', '92', '387', 'etsy.com', '1,499,041', '92', '388', 'stuff.co.nz', '137,953', '92', '389', 'amazon.in', '134,864', '92', '390', 'marketwatch.com', '285,398', '92', '391', 'mozilla.com', '200,172', '92', '392', 'rottentomatoes.com', '197,191', '92', '393', 'prnewswire.com', '304,666', '92', '394', 'sina.com.cn', '1,129,875', '92', '395', 'orange.fr', '167,133', '92', '396', 'dictionary.com', '239,211', '92', '397', 'intel.com', '226,881', '92', '398', 'cbslocal.com', '270,925', '92', '399', 'ask.fm', '239,811', '92', '400', 'narod.ru', '272,214', '92', '401', 'daum.net', '158,206', '92', '402', 'e-monsite.com', '141,294', '92', '403', 'feedproxy.google.com', '755,375', '92', '404', 'mail.yahoo.com', '170,062', '92', '405', 'espn.go.com', '227,356', '92', '406', 'archives.gov', '215,223', '92', '407', 'softonic.com', '133,130', '92', '408', 'usc.edu', '188,857', '92', '409', 'disney.go.com', '167,448', '92', '410', 'dot.tk', '6,051,637', '92', '411', 'scientificamerican.com', '249,335', '92', '412', 'teamviewer.com', '149,493', '92', '413', 'psu.edu', '271,048', '92', '414', 'debian.org', '336,076', '92', '415', 'www.skyrock.com', '10,744,472', '92', '416', 'thefreedictionary.com', '193,139', '92', '417', 'gesetze-im-internet.de', '136,026', '92', '418', 'chicagotribune.com', '299,914', '92', '419', 'cmu.edu', '204,528', '92', '420', 'pcmag.com', '189,780', '92', '421', 'www.livejournal.com', '2,861,494', '92', '422', 'history.com', '189,405', '92', '423', 'uber.com', '121,808', '92', '424', 'chinadaily.com.cn', '278,260', '92', '425', 'mercurynews.com', '161,510', '92', '426', 'fortune.com', '217,643', '92', '427', 'lonelyplanet.com', '152,885', '92', '428', 'plos.org', '222,191', '92', '429', 'venturebeat.com', '180,320', '92', '430', 'weather.com', '214,196', '92', '431', 'chron.com', '196,128', '92', '432', 'ed.gov', '237,981', '92', '433', 'target.com', '228,864', '92', '434', 'ca.gov', '376,671', '92', '435', 'mixcloud.com', '172,072', '92', '436', 'fastcompany.com', '257,712', '92', '437', 'merriam-webster.com', '234,524', '92', '438', 'techradar.com', '129,146', '92', '439', 'inc.com', '209,201', '92', '440', '20minutos.es', '122,048', '92', '441', 'sky.com', '186,743', '92', '442', 'bp3.blogger.com', '522,244', '92', '443', 'politico.com', '208,199', '92', '444', 'lego.com', '121,790', '92', '445', 'nifty.com', '215,014', '92', '446', 'stores.jp', '406,999', '92', '447', 'people.com', '197,664', '92', '448', 'home.pl', '202,434', '92', '449', 'usgs.gov', '196,963', '92', '450', 'statista.com', '184,545', '92', '451', 'consumerreports.org', '149,595', '92', '452', 'flickr.com', '8,545,919', '92', '453', 'tmz.com', '178,477', '92', '454', 'amazon.ca', '176,955', '92', '455', 'huawei.com', '125,129', '92', '456', 'ucla.edu', '229,735', '92', '457', 'sports.yahoo.com', '177,957', '92', '458', 'video.google.com', '204,708', '92', '459', 'elsevier.com', '224,532', '92', '460', 'mayoclinic.org', '275,880', '92', '461', 'nba.com', '181,454', '92', '462', 'ssl-images-amazon.com', '156,420', '92', '463', 'boston.com', '279,039', '92', '464', 'dreamstime.com', '131,514', '92', '465', 'upenn.edu', '266,375', '92', '466', 'clickbank.net', '430,366', '92', '467', 'businesswire.com', '231,826', '92', '468', 'geocities.jp', '244,495', '92', '469', 'autodesk.com', '126,265', '92', '470', 'foursquare.com', '237,812', '92', '471', 'ftc.gov', '216,040', '92', '472', 'softpedia.com', '161,541', '92', '473', 'unicef.org', '139,989', '92', '474', 'sakura.ne.jp', '363,947', '92', '475', 'biblegateway.com', '206,920', '92', '476', 'repubblica.it', '172,386', '92', '477', 'howstuffworks.com', '260,260', '92', '478', 'ap.org', '179,217', '92', '479', 'evernote.com', '257,577', '92', '480', 'com.com', '229,664', '92', '481', 'interia.pl', '158,168', '92', '482', 'soratemplates.com', '196,042', '92', '483', 'outlook.com', '192,409', '92', '484', 'oreilly.com', '222,053', '92', '485', 'rediff.com', '268,938', '92', '486', 'gooyaabitemplates.com', '326,704', '92', '487', 'gutenberg.org', '159,907', '92', '488', 'ebay.co.uk', '205,883', '92', '489', 'jstor.org', '153,834', '92', '490', 'iso.org', '171,091', '92', '491', 'indiegogo.com', '217,498', '92', '492', 'fb.me', '231,633', '92', '493', 'arxiv.org', '178,866', '92', '494', 'alexa.com', '285,827', '92', '495', 'thoughtco.com', '295,267', '92', '496', 'billboard.com', '165,710', '92', '497', 'ucoz.ru', '184,459', '92', '498', 'mhlw.go.jp', '138,334', '92', '499', 'enable-javascript.com', '915,622', '92', '500', 'newscientist.com']"
      ],
      "execution_count": null,
      "outputs": []
    },
    {
      "cell_type": "code",
      "metadata": {
        "id": "WvpngHzrL7dD"
      },
      "source": [
        "def getWeatherData(cityName):\n",
        "    api = 'http://api.openweathermap.org/data/2.5/weather?appid=c6db7752bda2accb8b608e3f44e534f5&q='\n",
        "    url = api + cityName\n",
        "    data = requests.get(url).json()\n",
        "    weatherCondition = data['weather'][0]['main']\n",
        "    temp = data['main']['temp']\n",
        "    pressure = data['main']['pressure']\n",
        "    humidity = data['main']['humidity']\n",
        "    windSpeed = data['wind']['speed']    \n",
        "    print(f\"The weather is {weatherCondition}, and the temperature is {temp} kelvin. Atmospheric Pressure is around {pressure}. The humidity is {humidity}, while the windspeed is {windSpeed}\")\n",
        "    say(f\"The weather is {weatherCondition}, and the temperature is {temp} kelvin. Atmospheric Pressure is around {pressure}. The humidity is {humidity}, while the windspeed is {windSpeed}\")\n",
        "    \n",
        "def wikisearch(title):\n",
        "    results = wikipedia.summary(title,sentences=2)\n",
        "    print(results)\n",
        "    say(results + \"thanks for using wikipedia\")\n",
        "\n",
        " \n",
        "def google_search(search_var):\n",
        "    que = \"https://google.com/?#q=\"\n",
        "    webbrowser.open(que+search_var,new=2)\n",
        "         \n",
        "def make_note(note):\n",
        "    file=open(f\"Note{ran1}.txt\",'w')\n",
        "    file.write(note)\n",
        "    file.close()\n",
        "    print(note)\n",
        "    say('done')\n",
        "\n",
        "def siteOpener(siteName):\n",
        "    for i in range(0,len(sites_list)):\n",
        "        try:\n",
        "            if siteName in sites_list[i]:\n",
        "                webbrowser.open_new_tab(\"https://\"+sites_list[i])\n",
        "                break\n",
        "        except Exception as e :\n",
        "            say(f\" An error occured. {e}\")"
      ],
      "execution_count": null,
      "outputs": []
    },
    {
      "cell_type": "code",
      "metadata": {
        "id": "k8lao-JQhgUp"
      },
      "source": [
        "speech = get_audio()\n",
        "if 'search wikipedia' in speech:\n",
        "    say(\"What do you want to search on Wikipedia\")\n",
        "    search_que = get_audio()\n",
        "    wikisearch(search_que)\n",
        "    \n",
        "elif  'make a note' in speech:\n",
        "    say('Ok tell, what do you want to write in the note.')\n",
        "    to_be_noted = get_audio()\n",
        "    make_note(to_be_noted)\n",
        "    say(\"done\")\n",
        "    \n",
        "elif 'search google' in speech:\n",
        "    say('What do you want to search on google')\n",
        "    data1 = get_audio()\n",
        "    google_search(data1)\n",
        "    \n",
        "elif 'open a site' in speech:\n",
        "    say('Which site do you want to open')\n",
        "    sitename = get_audio()\n",
        "    siteOpener(sitename)"
      ],
      "execution_count": null,
      "outputs": []
    },
    {
      "cell_type": "code",
      "metadata": {
        "id": "siZGMQFYnHe2"
      },
      "source": [
        "#calculator\n",
        "def add():\n",
        "  say(\"give the first number\")\n",
        "  q1 = get_audio()\n",
        "  say(\"give the second number\")\n",
        "  q2 = get_audio()\n",
        "  sum = int (q1) + int (q2)\n",
        "  say(\"the sum of the numbers you give is\"+str(sum))\n",
        "def sub():\n",
        "  say(\"give the first number\")\n",
        "  q1 = get_audio()\n",
        "  say(\"give the second number\")\n",
        "  q2 = get_audio()\n",
        "  diff = int (q1) - int (q2)\n",
        "  say(\"the difference of the numbers you give is\"+str(diff))\n",
        "def mul():\n",
        "  say(\"give the first number\")\n",
        "  q1 = get_audio()\n",
        "  say(\"give the second number\")\n",
        "  q2 = get_audio()\n",
        "  pro = int (q1) * int (q2)\n",
        "  say(\"the product of the numbers you give is\"+str(pro))\n",
        "def div():\n",
        "  say(\"give the first number\")\n",
        "  q1 = get_audio()\n",
        "  say(\"give the second number\")\n",
        "  q2 = get_audio()\n",
        "  qou = int (q1) / int (q2)\n",
        "  say(\"the quotient of the numbers you give is\"+str(qou))\n"
      ],
      "execution_count": null,
      "outputs": []
    },
    {
      "cell_type": "code",
      "metadata": {
        "id": "bnaSloSMglRx"
      },
      "source": [
        "def equal():\n",
        "  if 'add' in speech1:\n",
        "    add()\n",
        "  elif 'subtract' in speech1:\n",
        "    sub()\n",
        "  elif 'multiply' in speech1:\n",
        "    mul()\n",
        "  elif 'divide' in speech1:\n",
        "    div()\n",
        "    \n"
      ],
      "execution_count": null,
      "outputs": []
    },
    {
      "cell_type": "code",
      "metadata": {
        "id": "uYEXUJzRqYoj"
      },
      "source": [
        "speech1 = get_audio()\n",
        "equal()"
      ],
      "execution_count": null,
      "outputs": []
    },
    {
      "cell_type": "code",
      "metadata": {
        "id": "7pCtoEqL-XG0"
      },
      "source": [
        "#interactions\n",
        "def howsday():\n",
        "  say(str(random.choices(['it is fine what about you','it is not really good','i am tired, i dont want to talk'], weights = [30,30,30], k = 1)))\n",
        "def birth():\n",
        "  say(str(random.choices(['i was just a developing virtual assistant during the pandemic time in year 2020, and i was born january 2021','how was that your concern','my birthday is january 5 2021, i am a school project and january 6 is my presentation day'], weights = [20,20,30], k = 1)))\n",
        "def pandemic():\n",
        "  say(str(random.choices(['this pandemic really affect a lot of people i hate covid', 'lets go back to the past, and prevent the covid pandemic that will be awsome','just stay home, and be healthy'], weights = [30,30,20], k = 1)))\n",
        "def hobby():\n",
        "  say(str(random.choices(['i want to sing a lot la la la la', 'i dont have any hobby i am a virtual assistant not a person', 'i like to eat if you have any virtual food their past it to me'], weights = [30,20,30], k = 1)))\n",
        "def earning():\n",
        "  say('i gained'+str(random.choices(['fat','knowledge','money','confidence','muscles','nothing'], weights = [10,10,10,10,10,5], k = 1)))\n"
      ],
      "execution_count": null,
      "outputs": []
    },
    {
      "cell_type": "code",
      "metadata": {
        "id": "LTSXlOQQ-7pJ"
      },
      "source": [
        "voice_command = 'how was your day'\n",
        "def interac():\n",
        "  if voice_command in speech1:\n",
        "    howsday()\n",
        "  elif 'when is your birthday'  in speech1:\n",
        "    birth()\n",
        "  elif 'how do you think about this pandemic' in speech1:\n",
        "    pandemic()\n",
        "  elif 'what is your hobby' in speech1:\n",
        "    hobby()\n",
        "  elif 'what have you earned this time' in speech1:\n",
        "    earning()\n",
        "  elif voice_command not in speech1:\n",
        "    say('i dont understand you, can you ask other question')"
      ],
      "execution_count": null,
      "outputs": []
    },
    {
      "cell_type": "code",
      "metadata": {
        "id": "bO86ThCx_DP4",
        "colab": {
          "base_uri": "https://localhost:8080/",
          "height": 93
        },
        "outputId": "f4d9bb40-0e31-45b0-95ac-498f8e350275"
      },
      "source": [
        "speech1 = get_audio()\n",
        "interac()"
      ],
      "execution_count": null,
      "outputs": [
        {
          "output_type": "display_data",
          "data": {
            "text/html": [
              "\n",
              "<script>\n",
              "var my_div = document.createElement(\"DIV\");\n",
              "var my_p = document.createElement(\"P\");\n",
              "var mylabel = document.createElement(\"LABEL\");\n",
              "var mybutton = document.createElement(\"BUTTON\");\n",
              "var my_btn = document.createElement(\"BUTTON\");\n",
              "mybutton.innerHTML = \"Click to Start Recording\"; \n",
              "\n",
              "my_div.appendChild(mybutton);\n",
              "my_div.appendChild(my_btn);\n",
              "my_div.appendChild(mylabel);\n",
              "document.body.appendChild(my_div);\n",
              "var recordButton = my_btn;\n",
              "var base64data = 0;\n",
              "var reader;\n",
              "var recorder, gumStream;\n",
              "mybutton.style.display = \"block\";\n",
              "my_btn.style.display = \"none\";\n",
              "\n",
              "\n",
              "mybutton.onclick = ()=>{   \n",
              "\n",
              "    \n",
              "    var handleSuccess = function(stream) {\n",
              "    gumStream = stream;\n",
              "    var options = {\n",
              "      //bitsPerSecond: 8000, //chrome seems to ignore, always 48k\n",
              "      mimeType : 'audio/webm;codecs=opus'\n",
              "      //mimeType : 'audio/webm;codecs=pcm'\n",
              "    };   \n",
              "\n",
              "    //recorder = new MediaRecorder(stream, options);\n",
              "    recorder = new MediaRecorder(stream);\n",
              "    recorder.ondataavailable = function(e) {            \n",
              "      var url = URL.createObjectURL(e.data);\n",
              "      var preview = document.createElement('audio');\n",
              "      preview.controls = true;\n",
              "      preview.src = url;\n",
              "      //document.body.appendChild(preview);\n",
              "\n",
              "      reader = new FileReader();\n",
              "      reader.readAsDataURL(e.data); \n",
              "      reader.onloadend = function() {\n",
              "        base64data = reader.result;\n",
              "        //console.log(\"Inside FileReader:\" + base64data);\n",
              "      }\n",
              "    };\n",
              "    recorder.start();\n",
              "  };\n",
              "  mybutton.style.display = \"none\";\n",
              "  my_btn.style.display = \"block\";\n",
              "  recordButton.innerText = \"Recording... press to stop\";\n",
              "\n",
              "\n",
              "  navigator.mediaDevices.getUserMedia({audio: true}).then(handleSuccess);\n",
              "\n",
              "}\n",
              "\n",
              "  var data = new Promise(resolve=>{\n",
              "  //recordButton.addEventListener(\"click\", toggleRecording);\n",
              "  recordButton.onclick = ()=>{\n",
              "  toggleRecording()\n",
              "\n",
              "  sleep(2000).then(() => {\n",
              "    // wait 2000ms for the data to be available...\n",
              "    // ideally this should use something like await...\n",
              "    //console.log(\"Inside data:\" + base64data)\n",
              "    resolve(base64data.toString())\n",
              "\n",
              "  });\n",
              "\n",
              "  }\n",
              "  }); //var data\n",
              "\n",
              "function toggleRecording() {\n",
              "  if (recorder && recorder.state == \"recording\") {\n",
              "      recorder.stop();\n",
              "      gumStream.getAudioTracks()[0].stop();      \n",
              "      sleep(500).then(() => {\n",
              "            recordButton.style.display = \"none\";\n",
              "            recordButton.innerText = \"Input Accepted\"\n",
              "      });\n",
              "      \n",
              "  }\n",
              "}\n",
              "\n",
              "// https://stackoverflow.com/a/951057\n",
              "function sleep(ms) {\n",
              "  return new Promise(resolve => setTimeout(resolve, ms));\n",
              "}\n",
              "\n",
              "</script>\n"
            ],
            "text/plain": [
              "<IPython.core.display.HTML object>"
            ]
          },
          "metadata": {}
        },
        {
          "output_type": "stream",
          "name": "stdout",
          "text": [
            "You said: when is your birthday\n"
          ]
        },
        {
          "output_type": "display_data",
          "data": {
            "text/html": [
              "\n",
              "                <audio controls=\"controls\" autoplay=\"autoplay\">\n",
              "                    <source src=\"data:audio/x-wav;base64,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\" type=\"audio/x-wav\" />\n",
              "                    Your browser does not support the audio element.\n",
              "                </audio>\n",
              "              "
            ],
            "text/plain": [
              "<IPython.lib.display.Audio object>"
            ]
          },
          "metadata": {}
        }
      ]
    },
    {
      "cell_type": "code",
      "metadata": {
        "id": "qBcspkNN-1i4"
      },
      "source": [
        "say('hello user, I am your personal Virtual assistant, what do you want to talk about')\n",
        "while speech1 != '':\n",
        "  speech1 = get_audio()\n",
        "  if 'what it is like to be a virtual assistant' in speech1:\n",
        "    say(str(random.choices(['well, besides that i can be your virtual freind, i can also help you in a lot of ways, just download some add software','i dont know either', 'i was developed to help humans, so i should feel gratefull'], weights = [30,20,30], k = 1 )))\n",
        "  elif 'how do you feel right now' in speech1:\n",
        "    say(str(random.choices(['i am happy now, because you are talking to me', 'i cant feel anything'], weights = [20,20], k = 1)))\n",
        "  elif 'can you give some inspiration' in speech1:\n",
        "    say(str(random.choices(['the roots of knowledge are bitter and the fruits are very sweet as honey, in every pains there must be gain', 'if you are willing to learn, no one can help you, if you are determined to learned no one can stop you'], weights = [20,20], k = 1)))\n",
        "  elif 'goodbye' in speech1:\n",
        "    say('goodbye user have a nice day')\n",
        "    break"
      ],
      "execution_count": null,
      "outputs": []
    }
  ]
}